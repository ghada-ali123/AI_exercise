{
  "nbformat": 4,
  "nbformat_minor": 0,
  "metadata": {
    "colab": {
      "provenance": [],
      "toc_visible": true,
      "authorship_tag": "ABX9TyM7fi5+V8j0c9WvAfEV0ewM",
      "include_colab_link": true
    },
    "kernelspec": {
      "name": "python3",
      "display_name": "Python 3"
    },
    "language_info": {
      "name": "python"
    }
  },
  "cells": [
    {
      "cell_type": "markdown",
      "metadata": {
        "id": "view-in-github",
        "colab_type": "text"
      },
      "source": [
        "<a href=\"https://colab.research.google.com/github/ghada-ali123/AI_exercise/blob/main/Exercise%201.ipynb\" target=\"_parent\"><img src=\"https://colab.research.google.com/assets/colab-badge.svg\" alt=\"Open In Colab\"/></a>"
      ]
    },
    {
      "cell_type": "code",
      "execution_count": null,
      "metadata": {
        "id": "e2fQC9liejVC"
      },
      "outputs": [],
      "source": [
        "#Task 1: Write a class circle that has two methods calculate_circumference() and calculate_area(). What arguments make sense to include in the __init__() method?"
      ]
    },
    {
      "cell_type": "code",
      "source": [
        "import math\n",
        "\n",
        "class Circle:\n",
        "  def __init__(self, radius):\n",
        "    self.r = radius\n",
        "  def calculate_circumference(self):\n",
        "    circumference= 2 * math.pi * self.r\n",
        "    return circumference\n",
        "  def calculate_area(self):\n",
        "    area= math.pi * self.r**2\n",
        "    return area\n",
        "\n",
        "circle= Circle(radius= 1)\n",
        "print(circle.calculate_circumference())\n",
        "print(circle.calculate_area())"
      ],
      "metadata": {
        "colab": {
          "base_uri": "https://localhost:8080/"
        },
        "id": "p2E3U0C5oIg_",
        "outputId": "fd334961-570b-47c4-f6d6-ddf5eb2621ae"
      },
      "execution_count": 6,
      "outputs": [
        {
          "output_type": "stream",
          "name": "stdout",
          "text": [
            "6.283185307179586\n",
            "3.141592653589793\n"
          ]
        }
      ]
    },
    {
      "cell_type": "markdown",
      "source": [
        "Task 2: Write a function count_vowels(text) that returns the number of vowels (a, e, i, o, u) in a given string."
      ],
      "metadata": {
        "id": "QeJmUONNKM9E"
      }
    },
    {
      "cell_type": "code",
      "source": [
        "def count_vowels(string: str):\n",
        "  vowels_count= 0\n",
        "  for characters in string:\n",
        "    if characters in (\"a\", \"e\", \"i\", \"o\", \"u\"):\n",
        "      vowels_count += 1\n",
        "  return vowels_count\n",
        "print(count_vowels(\"aeiou\"))"
      ],
      "metadata": {
        "colab": {
          "base_uri": "https://localhost:8080/"
        },
        "id": "Xm3WaBu0KhbY",
        "outputId": "a880f374-9174-4beb-92de-af4637006963"
      },
      "execution_count": 22,
      "outputs": [
        {
          "output_type": "stream",
          "name": "stdout",
          "text": [
            "5\n"
          ]
        }
      ]
    },
    {
      "cell_type": "markdown",
      "source": [
        "\n",
        "\n",
        "Task 3: Write a function that checks if a word is a palindrome (palindromes are words that are the same if read backwards).\n"
      ],
      "metadata": {
        "id": "v_NJG_-_YSUI"
      }
    },
    {
      "cell_type": "code",
      "source": [
        "def is_palindrome(word: str):\n",
        "  reversed_word=word[::-1]\n",
        "  if word==reversed_word:\n",
        "    return True\n",
        "  else:\n",
        "    return False\n",
        "print(is_palindrome(\"ANNA\"))\n",
        "print(is_palindrome(\"Ramez\"))\n",
        "\n",
        "\n",
        "\n",
        "\n",
        ""
      ],
      "metadata": {
        "colab": {
          "base_uri": "https://localhost:8080/"
        },
        "id": "wycqIBZ3YlhU",
        "outputId": "f4b9f58c-5bcf-4a0b-e695-503d06860a83"
      },
      "execution_count": 35,
      "outputs": [
        {
          "output_type": "stream",
          "name": "stdout",
          "text": [
            "True\n",
            "False\n"
          ]
        }
      ]
    },
    {
      "cell_type": "markdown",
      "source": [
        "Task 4: Employee and Manager\n",
        "\n",
        "Create a class Employee with attributes name and salary. Create a subclass Manager that adds an attribute department. Override a method display_info() to include department information.\n"
      ],
      "metadata": {
        "id": "ITWEp13wxkOn"
      }
    },
    {
      "cell_type": "code",
      "source": [
        "class Employee:\n",
        "  def __init__(self, name: str, salary: float):\n",
        "    self.name = name\n",
        "    self.salary = salary\n",
        "\n",
        "  def display_info(self):\n",
        "    print(f\"Name: {self.name}\")\n",
        "    print(f\"Salary: {self.salary}\")\n",
        "\n",
        "class Manager(Employee):\n",
        "  def __init__(self, name: str, salary: float, department: str):\n",
        "    super().__init__(name, salary)\n",
        "    self.department = department\n",
        "\n",
        "  def display_info(self):\n",
        "    super().display_info()\n",
        "    print(f\"\\n Department: {self.department}\")\n",
        "\n",
        "# Example usage:\n",
        "employee = Employee(\"lili\", 40000)\n",
        "employee.display_info()\n",
        "\n",
        "\n",
        "\n",
        "manager = Manager(\"leila\", 60000, \"Sales\")\n",
        "manager.display_info()"
      ],
      "metadata": {
        "colab": {
          "base_uri": "https://localhost:8080/"
        },
        "id": "bA_YL4Kkx-oW",
        "outputId": "f3672673-8848-4b0f-9f42-f4bdcbba1022"
      },
      "execution_count": 10,
      "outputs": [
        {
          "output_type": "stream",
          "name": "stdout",
          "text": [
            "Name: lili\n",
            "Salary: 40000\n",
            "Name: leila\n",
            "Salary: 60000\n",
            "\n",
            " Department: Sales\n"
          ]
        }
      ]
    },
    {
      "cell_type": "markdown",
      "source": [
        "Task 5: Password validator\n",
        "\n",
        "Write a function validate_password(password) that checks if a password meets the following criteria:\n",
        "- At least 8 characters long\n",
        "- Contains at least one uppercase letter,   one lowercase letter, and one number\n",
        "- Returns True if valid, otherwise False\n"
      ],
      "metadata": {
        "id": "nTqb8-8_G6rB"
      }
    },
    {
      "cell_type": "code",
      "source": [
        "def validate_password(password):\n",
        "  if len(password) < 8:\n",
        "    return False\n",
        "  has_upper = False\n",
        "  has_lower = False\n",
        "  has_digit = False\n",
        "  for char in password:\n",
        "    if char.isupper():\n",
        "      has_upper = True\n",
        "    elif char.islower():\n",
        "      has_lower = True\n",
        "    elif char.isdigit():\n",
        "      has_digit = True\n",
        "  return has_upper and has_lower and has_digit\n",
        "\n",
        "# Example usage:\n",
        "password_input = input(\"Enter your password: \")\n",
        "\n",
        "if validate_password(password_input):\n",
        "  print(f\"'{password_input}' is a valid password.\")\n",
        "else:\n",
        "  print(f\"'{password_input}' is an invalid password.\")"
      ],
      "metadata": {
        "colab": {
          "base_uri": "https://localhost:8080/",
          "height": 374
        },
        "id": "kRTGhecZHJcK",
        "outputId": "8f74bf81-c2e8-4dd2-aca1-c4778094157a"
      },
      "execution_count": 39,
      "outputs": [
        {
          "output_type": "error",
          "ename": "KeyboardInterrupt",
          "evalue": "Interrupted by user",
          "traceback": [
            "\u001b[0;31m---------------------------------------------------------------------------\u001b[0m",
            "\u001b[0;31mKeyboardInterrupt\u001b[0m                         Traceback (most recent call last)",
            "\u001b[0;32m/tmp/ipython-input-1585783397.py\u001b[0m in \u001b[0;36m<cell line: 0>\u001b[0;34m()\u001b[0m\n\u001b[1;32m     15\u001b[0m \u001b[0;34m\u001b[0m\u001b[0m\n\u001b[1;32m     16\u001b[0m \u001b[0;31m# Example usage:\u001b[0m\u001b[0;34m\u001b[0m\u001b[0;34m\u001b[0m\u001b[0m\n\u001b[0;32m---> 17\u001b[0;31m \u001b[0mpassword_input\u001b[0m \u001b[0;34m=\u001b[0m \u001b[0minput\u001b[0m\u001b[0;34m(\u001b[0m\u001b[0;34m\"Enter your password: \"\u001b[0m\u001b[0;34m)\u001b[0m\u001b[0;34m\u001b[0m\u001b[0;34m\u001b[0m\u001b[0m\n\u001b[0m\u001b[1;32m     18\u001b[0m \u001b[0;34m\u001b[0m\u001b[0m\n\u001b[1;32m     19\u001b[0m \u001b[0;32mif\u001b[0m \u001b[0mvalidate_password\u001b[0m\u001b[0;34m(\u001b[0m\u001b[0mpassword_input\u001b[0m\u001b[0;34m)\u001b[0m\u001b[0;34m:\u001b[0m\u001b[0;34m\u001b[0m\u001b[0;34m\u001b[0m\u001b[0m\n",
            "\u001b[0;32m/usr/local/lib/python3.12/dist-packages/ipykernel/kernelbase.py\u001b[0m in \u001b[0;36mraw_input\u001b[0;34m(self, prompt)\u001b[0m\n\u001b[1;32m   1175\u001b[0m                 \u001b[0;34m\"raw_input was called, but this frontend does not support input requests.\"\u001b[0m\u001b[0;34m\u001b[0m\u001b[0;34m\u001b[0m\u001b[0m\n\u001b[1;32m   1176\u001b[0m             )\n\u001b[0;32m-> 1177\u001b[0;31m         return self._input_request(\n\u001b[0m\u001b[1;32m   1178\u001b[0m             \u001b[0mstr\u001b[0m\u001b[0;34m(\u001b[0m\u001b[0mprompt\u001b[0m\u001b[0;34m)\u001b[0m\u001b[0;34m,\u001b[0m\u001b[0;34m\u001b[0m\u001b[0;34m\u001b[0m\u001b[0m\n\u001b[1;32m   1179\u001b[0m             \u001b[0mself\u001b[0m\u001b[0;34m.\u001b[0m\u001b[0m_parent_ident\u001b[0m\u001b[0;34m[\u001b[0m\u001b[0;34m\"shell\"\u001b[0m\u001b[0;34m]\u001b[0m\u001b[0;34m,\u001b[0m\u001b[0;34m\u001b[0m\u001b[0;34m\u001b[0m\u001b[0m\n",
            "\u001b[0;32m/usr/local/lib/python3.12/dist-packages/ipykernel/kernelbase.py\u001b[0m in \u001b[0;36m_input_request\u001b[0;34m(self, prompt, ident, parent, password)\u001b[0m\n\u001b[1;32m   1217\u001b[0m             \u001b[0;32mexcept\u001b[0m \u001b[0mKeyboardInterrupt\u001b[0m\u001b[0;34m:\u001b[0m\u001b[0;34m\u001b[0m\u001b[0;34m\u001b[0m\u001b[0m\n\u001b[1;32m   1218\u001b[0m                 \u001b[0;31m# re-raise KeyboardInterrupt, to truncate traceback\u001b[0m\u001b[0;34m\u001b[0m\u001b[0;34m\u001b[0m\u001b[0m\n\u001b[0;32m-> 1219\u001b[0;31m                 \u001b[0;32mraise\u001b[0m \u001b[0mKeyboardInterrupt\u001b[0m\u001b[0;34m(\u001b[0m\u001b[0;34m\"Interrupted by user\"\u001b[0m\u001b[0;34m)\u001b[0m \u001b[0;32mfrom\u001b[0m \u001b[0;32mNone\u001b[0m\u001b[0;34m\u001b[0m\u001b[0;34m\u001b[0m\u001b[0m\n\u001b[0m\u001b[1;32m   1220\u001b[0m             \u001b[0;32mexcept\u001b[0m \u001b[0mException\u001b[0m\u001b[0;34m:\u001b[0m\u001b[0;34m\u001b[0m\u001b[0;34m\u001b[0m\u001b[0m\n\u001b[1;32m   1221\u001b[0m                 \u001b[0mself\u001b[0m\u001b[0;34m.\u001b[0m\u001b[0mlog\u001b[0m\u001b[0;34m.\u001b[0m\u001b[0mwarning\u001b[0m\u001b[0;34m(\u001b[0m\u001b[0;34m\"Invalid Message:\"\u001b[0m\u001b[0;34m,\u001b[0m \u001b[0mexc_info\u001b[0m\u001b[0;34m=\u001b[0m\u001b[0;32mTrue\u001b[0m\u001b[0;34m)\u001b[0m\u001b[0;34m\u001b[0m\u001b[0;34m\u001b[0m\u001b[0m\n",
            "\u001b[0;31mKeyboardInterrupt\u001b[0m: Interrupted by user"
          ]
        }
      ]
    },
    {
      "cell_type": "markdown",
      "source": [
        "The following code snippets will each contain a mistake. Try executing them, and figure out where the mistake is coming from and how you can fix it.\n",
        "\n",
        "At the end of the chapter, you can find a solution with an explanation of what was wrong."
      ],
      "metadata": {
        "id": "Tz_l1F23X5zo"
      }
    },
    {
      "cell_type": "code",
      "source": [
        "# We want to look at the last entry in this list\n",
        "my_list = [1, 4, 9, 16]\n",
        "\n",
        "# However, this fails:\n",
        "print(my_list[-1])"
      ],
      "metadata": {
        "colab": {
          "base_uri": "https://localhost:8080/"
        },
        "id": "dvifHOs3YsjM",
        "outputId": "4dadce50-d6c0-465d-f7cb-1c335a1ae73c"
      },
      "execution_count": 40,
      "outputs": [
        {
          "output_type": "stream",
          "name": "stdout",
          "text": [
            "16\n"
          ]
        }
      ]
    },
    {
      "cell_type": "markdown",
      "source": [],
      "metadata": {
        "id": "svY50TqGbUMk"
      }
    },
    {
      "cell_type": "code",
      "source": [
        "# This is a basic cat class\n",
        "class Cat:\n",
        "\n",
        "    def __init__(self, name: str, color: str):\n",
        "        self.name = name\n",
        "        self.color = color\n",
        "\n",
        "    def meow(self, loud: bool):\n",
        "        if loud is True:\n",
        "            print(\"MEOW!\")\n",
        "        else:\n",
        "            print(\"MEOW\")\n",
        "\n",
        "# This is a cat instance\n",
        "my_cat = Cat(name =\"Findus\", color =\"Tabby\")\n",
        "print(\"the_sound_of_my_cat\")\n",
        "my_cat.meow(loud=True)"
      ],
      "metadata": {
        "colab": {
          "base_uri": "https://localhost:8080/"
        },
        "id": "4k7DQ3yibejs",
        "outputId": "15245058-558e-4365-e163-f57e856babab"
      },
      "execution_count": 50,
      "outputs": [
        {
          "output_type": "stream",
          "name": "stdout",
          "text": [
            "the_sound_of_my_cat\n",
            "MEOW!\n"
          ]
        }
      ]
    },
    {
      "cell_type": "code",
      "source": [
        "# This functtion should calculate the factorial\n",
        "def factorial(n):\n",
        "    result = 1\n",
        "    for i in range(1, n+1):\n",
        "          result = result * i\n",
        "    return result\n",
        "\n",
        "# If we look at the result, however, we notice it is 24 instead of 120.\n",
        "print(factorial(5))\n",
        "# Why? Fix the function and try running it again."
      ],
      "metadata": {
        "colab": {
          "base_uri": "https://localhost:8080/"
        },
        "id": "2NyirDrsupVX",
        "outputId": "4927fa79-19fe-4ec2-f171-444e52f0c071"
      },
      "execution_count": 51,
      "outputs": [
        {
          "output_type": "stream",
          "name": "stdout",
          "text": [
            "120\n"
          ]
        }
      ]
    },
    {
      "cell_type": "code",
      "source": [
        "# Task 9\n",
        "class Car:\n",
        "\n",
        "    def __init__(self, color: str, model: str, honk_sound: str = \"HONK!\"):\n",
        "        self.color = color\n",
        "        self.model = model\n",
        "        self.honk_sound = honk_sound\n",
        "\n",
        "    def honk(self):\n",
        "        print(self.honk_sound)\n",
        "\n",
        "# This car should honk. But it doesn't. Instead it throws a TypeError. Why?\n",
        "my_car = Car(color = \"Black\", model = \"Mercedes\")\n",
        "my_car.honk()"
      ],
      "metadata": {
        "colab": {
          "base_uri": "https://localhost:8080/"
        },
        "id": "23KRteHiFL88",
        "outputId": "e54306ec-9b38-4b85-a1c6-8d886c05b2c1"
      },
      "execution_count": 52,
      "outputs": [
        {
          "output_type": "stream",
          "name": "stdout",
          "text": [
            "HONK!\n"
          ]
        }
      ]
    }
  ]
}