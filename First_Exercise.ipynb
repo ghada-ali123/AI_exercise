{
  "nbformat": 4,
  "nbformat_minor": 0,
  "metadata": {
    "colab": {
      "provenance": [],
      "authorship_tag": "ABX9TyPsGDEr19V1kqcrb1xl13Z4",
      "include_colab_link": true
    },
    "kernelspec": {
      "name": "python3",
      "display_name": "Python 3"
    },
    "language_info": {
      "name": "python"
    }
  },
  "cells": [
    {
      "cell_type": "markdown",
      "metadata": {
        "id": "view-in-github",
        "colab_type": "text"
      },
      "source": [
        "<a href=\"https://colab.research.google.com/github/ghada-ali123/AI_exercise/blob/main/First_Exercise.ipynb\" target=\"_parent\"><img src=\"https://colab.research.google.com/assets/colab-badge.svg\" alt=\"Open In Colab\"/></a>"
      ]
    },
    {
      "cell_type": "code",
      "execution_count": null,
      "metadata": {
        "id": "e2fQC9liejVC"
      },
      "outputs": [],
      "source": [
        "#Task 1: Write a class circle that has two methods calculate_circumference() and calculate_area(). What arguments make sense to include in the __init__() method?"
      ]
    },
    {
      "cell_type": "code",
      "source": [
        "import math\n",
        "\n",
        "class Circle:\n",
        "  def __init__(self, radius):\n",
        "    self.r = radius\n",
        "  def calculate_circumference(self):\n",
        "    circumference= 2 * math.pi * self.r\n",
        "    return circumference\n",
        "  def calculate_area(self):\n",
        "    area= math.pi * self.r**2\n",
        "    return area\n",
        "\n",
        "circle= Circle(radius= 1)\n",
        "print(circle.calculate_circumference())\n",
        "print(circle.calculate_area())"
      ],
      "metadata": {
        "colab": {
          "base_uri": "https://localhost:8080/"
        },
        "id": "p2E3U0C5oIg_",
        "outputId": "fd334961-570b-47c4-f6d6-ddf5eb2621ae"
      },
      "execution_count": 6,
      "outputs": [
        {
          "output_type": "stream",
          "name": "stdout",
          "text": [
            "6.283185307179586\n",
            "3.141592653589793\n"
          ]
        }
      ]
    },
    {
      "cell_type": "markdown",
      "source": [
        "Task 2: Write a function count_vowels(text) that returns the number of vowels (a, e, i, o, u) in a given string."
      ],
      "metadata": {
        "id": "QeJmUONNKM9E"
      }
    },
    {
      "cell_type": "code",
      "source": [
        "def count_vowels(string: str):\n",
        "  vowels_count= 0\n",
        "  for characters in string:\n",
        "    if characters in (\"a\", \"e\", \"i\", \"o\", \"u\"):\n",
        "      vowels_count += 1\n",
        "  return vowels_count\n",
        "print(count_vowels(\"aeiou\"))"
      ],
      "metadata": {
        "colab": {
          "base_uri": "https://localhost:8080/"
        },
        "id": "Xm3WaBu0KhbY",
        "outputId": "a880f374-9174-4beb-92de-af4637006963"
      },
      "execution_count": 22,
      "outputs": [
        {
          "output_type": "stream",
          "name": "stdout",
          "text": [
            "5\n"
          ]
        }
      ]
    },
    {
      "cell_type": "markdown",
      "source": [
        "\n",
        "\n",
        "Task 3: Write a function that checks if a word is a palindrome (palindromes are words that are the same if read backwards).\n"
      ],
      "metadata": {
        "id": "v_NJG_-_YSUI"
      }
    },
    {
      "cell_type": "code",
      "source": [
        "def is_palindrome(word: str):\n",
        "  reversed_word=word[::-1]\n",
        "  if word==reversed_word:\n",
        "    return True\n",
        "  else:\n",
        "    return False\n",
        "print(is_palindrome(\"ANNA\"))\n",
        "print(is_palindrome(\"Ramez\"))\n",
        "\n",
        "\n",
        "\n",
        "\n",
        ""
      ],
      "metadata": {
        "colab": {
          "base_uri": "https://localhost:8080/"
        },
        "id": "wycqIBZ3YlhU",
        "outputId": "f4b9f58c-5bcf-4a0b-e695-503d06860a83"
      },
      "execution_count": 35,
      "outputs": [
        {
          "output_type": "stream",
          "name": "stdout",
          "text": [
            "True\n",
            "False\n"
          ]
        }
      ]
    }
  ]
}